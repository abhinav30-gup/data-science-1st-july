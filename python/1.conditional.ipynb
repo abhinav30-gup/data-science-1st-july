{
 "cells": [
  {
   "cell_type": "markdown",
   "id": "ee8b4d2f",
   "metadata": {},
   "source": [
    "\n",
    "\n",
    "\n"
   ]
  },
  {
   "cell_type": "markdown",
   "id": "fa84fcac",
   "metadata": {},
   "source": [
    "## conditional statement\n",
    "* if, else, elif\n",
    "\n",
    "\n",
    "            dear Student,\n",
    "            We’re thrilled to have you onboard for an exciting 4-week journey into the world of Artificial Intelligence! 🤖💡\n",
    "\n",
    "            Topic : From Learner to Builder: Become an AI Agent Architect\n",
    "\n",
    "            Program duration : 04-July-2025, Friday -  29-July-2025 Tuesday\n",
    "\n",
    "            Join us for the Orientation Session on Friday, July 4th, 2025, at 5:00 PM.\n",
    "\n",
    "\n",
    "            NB: We will share the detailed session schedule and other important information with you via email next week!\n",
    "\n"
   ]
  },
  {
   "cell_type": "code",
   "execution_count": 20,
   "id": "6498b3d8",
   "metadata": {},
   "outputs": [
    {
     "data": {
      "text/plain": [
       "10"
      ]
     },
     "execution_count": 20,
     "metadata": {},
     "output_type": "execute_result"
    }
   ],
   "source": [
    "a=10\n",
    "a"
   ]
  },
  {
   "cell_type": "code",
   "execution_count": 2,
   "id": "2ae9a249",
   "metadata": {},
   "outputs": [
    {
     "name": "stdout",
     "output_type": "stream",
     "text": [
      "x is less then 10\n"
     ]
    }
   ],
   "source": [
    "x=0\n",
    "if x<10: ###condition\n",
    "    print(\"x is less then 10\")\n"
   ]
  },
  {
   "cell_type": "code",
   "execution_count": 3,
   "id": "e5a7f96e",
   "metadata": {},
   "outputs": [
    {
     "name": "stdout",
     "output_type": "stream",
     "text": [
      "x is greater then 10\n"
     ]
    }
   ],
   "source": [
    "x=20\n",
    "if x<10:\n",
    "    print(\"x is less then 10\")\n",
    "else:\n",
    "    print(\"x is greater then 10\")\n",
    "    "
   ]
  },
  {
   "cell_type": "code",
   "execution_count": 4,
   "id": "8f99a566",
   "metadata": {},
   "outputs": [
    {
     "name": "stdout",
     "output_type": "stream",
     "text": [
      "x is equal to 20\n"
     ]
    }
   ],
   "source": [
    "x=20\n",
    "if x<10:\n",
    "    print(\"x is less than 10\")\n",
    "elif x==20:\n",
    "    print(\"x is equal to 20\")\n",
    "else:\n",
    "    print(\"x is greater than 10\")"
   ]
  },
  {
   "cell_type": "markdown",
   "id": "9738e2bd",
   "metadata": {},
   "source": [
    "### task 1 \n"
   ]
  },
  {
   "cell_type": "markdown",
   "id": "001b1d6c",
   "metadata": {},
   "source": [
    "### find the largest number"
   ]
  },
  {
   "cell_type": "code",
   "execution_count": 16,
   "id": "5ea2a945",
   "metadata": {},
   "outputs": [
    {
     "name": "stdout",
     "output_type": "stream",
     "text": [
      "88  b is largest\n"
     ]
    }
   ],
   "source": [
    "a=int(input(\"Enter first number: \"))\n",
    "b=int(input(\"Enter second number: \"))\n",
    "c=int(input(\"Enter third number: \"))\n",
    "if a>b and a>c:\n",
    "    print(a,\" a is largest\")\n",
    "elif b>a and b>c:\n",
    "    print(b,\" b is largest\")  \n",
    "else:\n",
    "    print(c,\" c is largest\")"
   ]
  },
  {
   "cell_type": "markdown",
   "id": "7507cacb",
   "metadata": {},
   "source": [
    "### task 2\n"
   ]
  },
  {
   "cell_type": "markdown",
   "id": "5eb3962c",
   "metadata": {},
   "source": [
    "## check even or odd\n"
   ]
  },
  {
   "cell_type": "code",
   "execution_count": 18,
   "id": "568172a8",
   "metadata": {},
   "outputs": [
    {
     "name": "stdout",
     "output_type": "stream",
     "text": [
      "x is even\n"
     ]
    }
   ],
   "source": [
    "x= int(input(\"enter a number \"))\n",
    "if x% 2==0:\n",
    "    print(\"x is even\")\n",
    "else:\n",
    "    print(\"x is odd\") "
   ]
  },
  {
   "cell_type": "markdown",
   "id": "5e7c63b7",
   "metadata": {},
   "source": [
    "### task 3\n"
   ]
  },
  {
   "cell_type": "markdown",
   "id": "369ebeb5",
   "metadata": {},
   "source": [
    "## leap year checker"
   ]
  },
  {
   "cell_type": "code",
   "execution_count": 19,
   "id": "678f60ba",
   "metadata": {},
   "outputs": [
    {
     "name": "stdout",
     "output_type": "stream",
     "text": [
      "2005  is not a leap year\n"
     ]
    }
   ],
   "source": [
    "a=int(input(\"Enter a year: \"))\n",
    "if a%4==0 or a%400==0:\n",
    "    print(a,\" is a leap year\")\n",
    "else:\n",
    "    print(a,\" is not a leap year\")"
   ]
  },
  {
   "cell_type": "markdown",
   "id": "ae2b5937",
   "metadata": {},
   "source": [
    "### task 4\n"
   ]
  },
  {
   "cell_type": "markdown",
   "id": "9d9a4dcd",
   "metadata": {},
   "source": [
    "## Grading system"
   ]
  },
  {
   "cell_type": "code",
   "execution_count": 22,
   "id": "c24ceadb",
   "metadata": {},
   "outputs": [
    {
     "name": "stdout",
     "output_type": "stream",
     "text": [
      "Grade A\n"
     ]
    }
   ],
   "source": [
    "a=int(input(\"enter your marks:\"))\n",
    "if a>=90:\n",
    "    print(\"Grade A\")\n",
    "elif a>=75 and a<=89:\n",
    "    print(\"Grade B\")\n",
    "elif a>=60 and a<=74:\n",
    "    print(\"Grade C\")\n",
    "else:\n",
    "    print(\"Grade D\")"
   ]
  },
  {
   "cell_type": "markdown",
   "id": "213d91cd",
   "metadata": {},
   "source": [
    "### task 5\n",
    "## Find largest of three numbers\n"
   ]
  },
  {
   "cell_type": "code",
   "execution_count": 25,
   "id": "ce9aa4e1",
   "metadata": {},
   "outputs": [
    {
     "name": "stdout",
     "output_type": "stream",
     "text": [
      "The largest number is:74 \n"
     ]
    }
   ],
   "source": [
    "a = int(input(\"Enter first number: \"))\n",
    "b = int(input(\"Enter second number: \"))\n",
    "c = int(input(\"Enter third number: \"))\n",
    "\n",
    "if a >= b and a >= c:\n",
    "    largest = a\n",
    "elif b >= a and b >= c:\n",
    "    largest = b\n",
    "else:\n",
    "    largest = c\n",
    "\n",
    "print(f\"The largest number is:{largest} \")"
   ]
  },
  {
   "cell_type": "markdown",
   "id": "228b4072",
   "metadata": {},
   "source": [
    "### task 6\n",
    "## Traffic light system\n"
   ]
  },
  {
   "cell_type": "code",
   "execution_count": null,
   "id": "a1f8ebff",
   "metadata": {},
   "outputs": [
    {
     "name": "stdout",
     "output_type": "stream",
     "text": [
      "Go\n"
     ]
    }
   ],
   "source": [
    "a=input(\"Enter traffic light : \")\n",
    "if a==\"red\":\n",
    "    print(\"Stop\")\n",
    "elif a==\"yellow\":\n",
    "    print(\"slow down\")\n",
    "elif a==\"green\":\n",
    "    print(\"Go\")\n",
    "else:\n",
    "    print (\"open traffic\")"
   ]
  }
 ],
 "metadata": {
  "kernelspec": {
   "display_name": "Python 3",
   "language": "python",
   "name": "python3"
  },
  "language_info": {
   "codemirror_mode": {
    "name": "ipython",
    "version": 3
   },
   "file_extension": ".py",
   "mimetype": "text/x-python",
   "name": "python",
   "nbconvert_exporter": "python",
   "pygments_lexer": "ipython3",
   "version": "3.13.5"
  }
 },
 "nbformat": 4,
 "nbformat_minor": 5
}
