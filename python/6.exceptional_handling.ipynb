{
 "cells": [
  {
   "cell_type": "markdown",
   "id": "77052e8e",
   "metadata": {},
   "source": [
    "## exceptional handling"
   ]
  },
  {
   "cell_type": "markdown",
   "id": "c0b19946",
   "metadata": {},
   "source": [
    "### try block >>> main code\n",
    "### except block >>> error handling\n",
    "### else block >>> multiple error\n",
    "### finally block >>> run every time"
   ]
  },
  {
   "cell_type": "code",
   "execution_count": 4,
   "id": "c4334879",
   "metadata": {},
   "outputs": [
    {
     "name": "stdout",
     "output_type": "stream",
     "text": [
      "invalid input invalid literal for int() with base 10: ''\n"
     ]
    }
   ],
   "source": [
    "try:\n",
    "    a = int(input(\"enter a number\"))\n",
    "    b = int(input(\"enter a number\"))\n",
    "    print(a*b)\n",
    "     \n",
    "except ValueError as e:\n",
    "    print(\"invalid input\",e)\n",
    "\n",
    "\n",
    "\n"
   ]
  },
  {
   "cell_type": "code",
   "execution_count": 9,
   "id": "fdd65572",
   "metadata": {},
   "outputs": [
    {
     "name": "stdout",
     "output_type": "stream",
     "text": [
      "1.0\n"
     ]
    }
   ],
   "source": [
    "try:\n",
    "    a = int(input(\"enter a number\"))\n",
    "    b = int(input(\"enter a number\"))\n",
    "    print(a/b)\n",
    "     \n",
    "except ZeroDivisionError as e:\n",
    "    print(\"invalid input\",e)"
   ]
  },
  {
   "cell_type": "code",
   "execution_count": 11,
   "id": "1b7899d3",
   "metadata": {},
   "outputs": [
    {
     "name": "stdout",
     "output_type": "stream",
     "text": [
      "4.583333333333333\n"
     ]
    }
   ],
   "source": [
    "try:\n",
    "    a = int(input(\"enter a number\"))\n",
    "    b = int(input(\"enter a number\"))\n",
    "    print(a/b)\n",
    "     \n",
    "except Exception as e:\n",
    "    print(\"invalid input\",e)"
   ]
  },
  {
   "cell_type": "code",
   "execution_count": 12,
   "id": "d166b652",
   "metadata": {},
   "outputs": [
    {
     "name": "stdout",
     "output_type": "stream",
     "text": [
      "1.0909090909090908\n",
      "no error\n",
      "koi chale na chlale m to chalunga\n"
     ]
    }
   ],
   "source": [
    "try:\n",
    "    a = int(input(\"enter a number\"))\n",
    "    b = int(input(\"enter a number\"))\n",
    "    print(a/b)\n",
    "     \n",
    "except ZeroDivisionError as e:\n",
    "    print(e)\n",
    "\n",
    "else:\n",
    "    print(\"no error\")\n",
    "\n",
    "finally:\n",
    "    print(\"koi chale na chlale m to chalunga\")"
   ]
  },
  {
   "cell_type": "code",
   "execution_count": 13,
   "id": "7905656b",
   "metadata": {},
   "outputs": [
    {
     "name": "stdout",
     "output_type": "stream",
     "text": [
      "2.0\n",
      "no error\n",
      "72\n",
      "koi chale na chlale m to chalunga\n"
     ]
    }
   ],
   "source": [
    "try:\n",
    "    a = int(input(\"enter a number\"))\n",
    "    b = int(input(\"enter a number\"))\n",
    "    print(a/b)\n",
    "     \n",
    "except ZeroDivisionError as e:\n",
    "    print(e)\n",
    "\n",
    "else:\n",
    "    print(\"no error\")\n",
    "    print(a*b)\n",
    "\n",
    "finally:\n",
    "    print(\"koi chale na chlale m to chalunga\")"
   ]
  },
  {
   "cell_type": "code",
   "execution_count": 15,
   "id": "b3e974af",
   "metadata": {},
   "outputs": [
    {
     "name": "stdout",
     "output_type": "stream",
     "text": [
      "division by zero\n",
      "koi chale na chlale m to chalunga\n"
     ]
    }
   ],
   "source": [
    "try:\n",
    "    a = int(input(\"enter a number\"))\n",
    "    b = int(input(\"enter a number\"))\n",
    "    print(a/b)\n",
    "     \n",
    "except Exception as e:\n",
    "    print(e)\n",
    "\n",
    "else:\n",
    "    print(\"no error\")\n",
    "    print(a*b)\n",
    "\n",
    "finally:\n",
    "    print(\"koi chale na chlale m to chalunga\")"
   ]
  },
  {
   "cell_type": "code",
   "execution_count": 2,
   "id": "9563eec5",
   "metadata": {},
   "outputs": [
    {
     "name": "stdout",
     "output_type": "stream",
     "text": [
      "final_result:-  1.8333333333333333\n",
      "Thanks for using our service\n"
     ]
    }
   ],
   "source": [
    "try:\n",
    "    num1= int(input(\"enter a number\"))\n",
    "    num2= int(input(\"enter a number\"))\n",
    "    result=num1/num2\n",
    "except ZeroDivisionError as e:\n",
    "    print(e)\n",
    "except ValueError as e:\n",
    "    print(e)\n",
    "except Exception as e:\n",
    "    print(e)\n",
    "else:\n",
    "    print(\"final_result:- \",result)\n",
    "finally:\n",
    "    print(\"Thanks for using our service\")\n"
   ]
  }
 ],
 "metadata": {
  "kernelspec": {
   "display_name": "Python 3",
   "language": "python",
   "name": "python3"
  },
  "language_info": {
   "codemirror_mode": {
    "name": "ipython",
    "version": 3
   },
   "file_extension": ".py",
   "mimetype": "text/x-python",
   "name": "python",
   "nbconvert_exporter": "python",
   "pygments_lexer": "ipython3",
   "version": "3.13.5"
  }
 },
 "nbformat": 4,
 "nbformat_minor": 5
}
