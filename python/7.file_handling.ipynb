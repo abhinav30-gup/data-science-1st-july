{
 "cells": [
  {
   "cell_type": "markdown",
   "id": "b9e67ee3",
   "metadata": {},
   "source": [
    "### *File handling* \n",
    "\n",
    "| Mode   | Description                                                  |\n",
    "| ------ | ------------------------------------------------------------ |\n",
    "| \"r\"  | Read mode (default), error if file doesn't exist             |\n",
    "| \"w\"  | Write mode, creates a file if not exist, overwrites existing |\n",
    "| \"a\"  | Append mode, adds content to end of file                     |\n",
    "| \"x\"  | Create mode, error if file already exists                    |\n",
    "                                         |"
   ]
  },
  {
   "cell_type": "code",
   "execution_count": 8,
   "id": "9d4b052a",
   "metadata": {},
   "outputs": [],
   "source": [
    "file=open('demo.txt','r') ## r for read and demo.txt is name of file\n",
    "file.read() ### it will read the first line of file\n",
    "file.close()"
   ]
  },
  {
   "cell_type": "code",
   "execution_count": 6,
   "id": "c86b0948",
   "metadata": {},
   "outputs": [],
   "source": [
    "file=open('demo.txt', 'r') ## it will append the file\n",
    "# file.readlines() ## it will read all the lines of the file\n",
    "file.close()"
   ]
  },
  {
   "cell_type": "code",
   "execution_count": 10,
   "id": "bc9a29c9",
   "metadata": {},
   "outputs": [],
   "source": [
    "file=open('demo.txt','w') ## w for write and demo.txt is name of file\n",
    "# file.read()\n",
    "file.write(\"hello world\")\n",
    "file.close()"
   ]
  },
  {
   "cell_type": "code",
   "execution_count": 12,
   "id": "b739cee4",
   "metadata": {},
   "outputs": [],
   "source": [
    "file=open('demo.txt','r')\n",
    "file.read()\n",
    "file.close()"
   ]
  },
  {
   "cell_type": "code",
   "execution_count": 16,
   "id": "8797b11b",
   "metadata": {},
   "outputs": [],
   "source": [
    "#  append mode\n",
    "file=open(\"demo.txt\",'a')\n",
    "file.write(\"or bhai kya chal ra h\")\n",
    "file.close()"
   ]
  },
  {
   "cell_type": "code",
   "execution_count": 20,
   "id": "bbc73806",
   "metadata": {},
   "outputs": [
    {
     "data": {
      "text/plain": [
       "<function TextIOWrapper.close()>"
      ]
     },
     "execution_count": 20,
     "metadata": {},
     "output_type": "execute_result"
    }
   ],
   "source": [
    "file =open(\"demo.txt\",'r')\n",
    "file.close"
   ]
  },
  {
   "cell_type": "code",
   "execution_count": 29,
   "id": "232bc3bd",
   "metadata": {},
   "outputs": [],
   "source": [
    "file=open(\"text.txt\",'a')\n",
    "file.write(\"apend mode ka kaam ye hota h ki agr esko file milti h to ye usi file ka ander append karega agr isko file nhi milti h to create kr dega\")\n",
    "file.close()\n"
   ]
  },
  {
   "cell_type": "code",
   "execution_count": 31,
   "id": "9b9ee339",
   "metadata": {},
   "outputs": [],
   "source": [
    "file =open('text.txt','a')\n",
    "# file.read()\n",
    "file.close()"
   ]
  },
  {
   "cell_type": "code",
   "execution_count": 28,
   "id": "a3e2ca70",
   "metadata": {},
   "outputs": [],
   "source": [
    "## create mode\n",
    "\n",
    "file= open(\"upflairs.txt\",'x')\n",
    "file.write(\"hello kesa laga upflair aake\")\n",
    "file.close()\n",
    "# file.read()"
   ]
  },
  {
   "cell_type": "code",
   "execution_count": null,
   "id": "de85c39d",
   "metadata": {},
   "outputs": [],
   "source": []
  }
 ],
 "metadata": {
  "kernelspec": {
   "display_name": "Python 3",
   "language": "python",
   "name": "python3"
  },
  "language_info": {
   "codemirror_mode": {
    "name": "ipython",
    "version": 3
   },
   "file_extension": ".py",
   "mimetype": "text/x-python",
   "name": "python",
   "nbconvert_exporter": "python",
   "pygments_lexer": "ipython3",
   "version": "3.13.5"
  }
 },
 "nbformat": 4,
 "nbformat_minor": 5
}
