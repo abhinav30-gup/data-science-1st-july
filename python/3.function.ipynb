{
 "cells": [
  {
   "cell_type": "markdown",
   "id": "2e69faa9",
   "metadata": {},
   "source": [
    "### function are 2 types\n",
    "#### user define function >>> jo user banata hai\n",
    "#### predefine function>>>>> print, len ,get etc"
   ]
  },
  {
   "cell_type": "code",
   "execution_count": 3,
   "id": "829430a4",
   "metadata": {},
   "outputs": [],
   "source": [
    "def function_name():\n",
    "    pass\n",
    "\n",
    "# function_name>>>>>>>>>>..function_name\n",
    "# def is Keyword\n",
    "# pass >>> placeholder"
   ]
  },
  {
   "cell_type": "code",
   "execution_count": 4,
   "id": "eda3e1b6",
   "metadata": {},
   "outputs": [],
   "source": [
    "def function_name():\n",
    "    pass\n",
    "\n",
    "# function_name>>>>>>>>>>..function_name\n",
    "# def is Keyword\n",
    "# pass >>> placeholder\n",
    "\n",
    "function_name() ## >>>> calling function"
   ]
  },
  {
   "cell_type": "code",
   "execution_count": 5,
   "id": "099eaea0",
   "metadata": {},
   "outputs": [],
   "source": [
    "# def function_name():\n",
    "# calling function"
   ]
  },
  {
   "cell_type": "markdown",
   "id": "b5e5b2af",
   "metadata": {},
   "source": [
    "### function is a block of code"
   ]
  },
  {
   "cell_type": "code",
   "execution_count": 6,
   "id": "14874b95",
   "metadata": {},
   "outputs": [],
   "source": [
    "def display():\n",
    "    print(\"hello, world\")"
   ]
  },
  {
   "cell_type": "code",
   "execution_count": 2,
   "id": "9f9a070a",
   "metadata": {},
   "outputs": [
    {
     "name": "stdout",
     "output_type": "stream",
     "text": [
      "hello, world\n"
     ]
    }
   ],
   "source": [
    "def display():\n",
    "    print(\"hello, world\")\n",
    "display()"
   ]
  },
  {
   "cell_type": "code",
   "execution_count": 8,
   "id": "3a8a58e3",
   "metadata": {},
   "outputs": [],
   "source": [
    "def add():\n",
    "    a=10\n",
    "    b=20\n",
    "    print(a+b)"
   ]
  },
  {
   "cell_type": "code",
   "execution_count": 9,
   "id": "da32ea04",
   "metadata": {},
   "outputs": [
    {
     "name": "stdout",
     "output_type": "stream",
     "text": [
      "30\n"
     ]
    }
   ],
   "source": [
    "add()"
   ]
  },
  {
   "cell_type": "markdown",
   "id": "99c7bb9b",
   "metadata": {},
   "source": [
    "### parameters"
   ]
  },
  {
   "cell_type": "code",
   "execution_count": 11,
   "id": "13a70531",
   "metadata": {},
   "outputs": [],
   "source": [
    "def add(a,b):\n",
    "    print(a+b)\n",
    "    add(10,20)"
   ]
  },
  {
   "cell_type": "code",
   "execution_count": 17,
   "id": "a48ef69e",
   "metadata": {},
   "outputs": [],
   "source": [
    "def dispaly (name , age, address =\"jaipur\"):\n",
    "    print(f\"my name is {name} and my age is {age} and my address is {address}\")"
   ]
  },
  {
   "cell_type": "code",
   "execution_count": 18,
   "id": "c326cb28",
   "metadata": {},
   "outputs": [
    {
     "name": "stdout",
     "output_type": "stream",
     "text": [
      "my name is abhinav and my age is 20 and my address is jaipur\n"
     ]
    }
   ],
   "source": [
    "dispaly(\"abhinav\",20)"
   ]
  },
  {
   "cell_type": "code",
   "execution_count": 19,
   "id": "efc4a517",
   "metadata": {},
   "outputs": [],
   "source": [
    "# lambda function\n",
    "# lambda >>>> keywords\n",
    "# lambda is a anonymous function\n",
    "# it is used for single line function\n",
    "# it is used for short function\n",
    "# it is used for one line function\n"
   ]
  },
  {
   "cell_type": "code",
   "execution_count": 23,
   "id": "d42380ad",
   "metadata": {},
   "outputs": [
    {
     "data": {
      "text/plain": [
       "30"
      ]
     },
     "execution_count": 23,
     "metadata": {},
     "output_type": "execute_result"
    }
   ],
   "source": [
    "add =lambda a,b:a+b\n",
    "add(10,20)"
   ]
  },
  {
   "cell_type": "code",
   "execution_count": 24,
   "id": "9ba63155",
   "metadata": {},
   "outputs": [
    {
     "data": {
      "text/plain": [
       "100"
      ]
     },
     "execution_count": 24,
     "metadata": {},
     "output_type": "execute_result"
    }
   ],
   "source": [
    "square = lambda a: a**2\n",
    "square (10)"
   ]
  },
  {
   "cell_type": "markdown",
   "id": "60467cf5",
   "metadata": {},
   "source": [
    "## read about lamda"
   ]
  }
 ],
 "metadata": {
  "kernelspec": {
   "display_name": "Python 3",
   "language": "python",
   "name": "python3"
  },
  "language_info": {
   "codemirror_mode": {
    "name": "ipython",
    "version": 3
   },
   "file_extension": ".py",
   "mimetype": "text/x-python",
   "name": "python",
   "nbconvert_exporter": "python",
   "pygments_lexer": "ipython3",
   "version": "3.13.5"
  }
 },
 "nbformat": 4,
 "nbformat_minor": 5
}
