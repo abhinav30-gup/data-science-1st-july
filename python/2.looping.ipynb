{
 "cells": [
  {
   "cell_type": "markdown",
   "id": "d5b874a6",
   "metadata": {},
   "source": [
    "## Looping in python"
   ]
  },
  {
   "cell_type": "markdown",
   "id": "7bf81ffa",
   "metadata": {},
   "source": [
    "### for\n",
    "### while\n"
   ]
  },
  {
   "cell_type": "code",
   "execution_count": 1,
   "id": "4b12c10d",
   "metadata": {},
   "outputs": [
    {
     "name": "stdout",
     "output_type": "stream",
     "text": [
      "a\n",
      "b\n",
      "h\n",
      "i\n",
      "n\n",
      "a\n",
      "v\n"
     ]
    }
   ],
   "source": [
    "# for\n",
    "# while\n",
    "# abhinav\n",
    "for x in \"abhinav\":\n",
    "    print(x)"
   ]
  },
  {
   "cell_type": "code",
   "execution_count": 3,
   "id": "1bf095a0",
   "metadata": {},
   "outputs": [
    {
     "name": "stdout",
     "output_type": "stream",
     "text": [
      "1\n",
      "2\n",
      "3\n",
      "4\n",
      "5\n"
     ]
    }
   ],
   "source": [
    "lst=[1,2,3,4,5]\n",
    "for x in lst:\n",
    "    print(x)"
   ]
  },
  {
   "cell_type": "code",
   "execution_count": 2,
   "id": "a94c21c4",
   "metadata": {},
   "outputs": [
    {
     "name": "stdout",
     "output_type": "stream",
     "text": [
      "0\n",
      "1\n",
      "2\n",
      "3\n",
      "4\n",
      "5\n",
      "6\n",
      "7\n",
      "8\n",
      "9\n"
     ]
    }
   ],
   "source": [
    "# range()\n",
    "for x in range (10):\n",
    "    print(x)"
   ]
  },
  {
   "cell_type": "code",
   "execution_count": 4,
   "id": "114b7ee7",
   "metadata": {},
   "outputs": [
    {
     "name": "stdout",
     "output_type": "stream",
     "text": [
      "1\n",
      "2\n",
      "3\n",
      "4\n",
      "5\n",
      "6\n",
      "7\n",
      "8\n",
      "9\n"
     ]
    }
   ],
   "source": [
    "for x in range (1,10):\n",
    "    print(x)"
   ]
  },
  {
   "cell_type": "code",
   "execution_count": 5,
   "id": "57773e04",
   "metadata": {},
   "outputs": [
    {
     "name": "stdout",
     "output_type": "stream",
     "text": [
      "{'name': 'abhinav', 'age': '21', 'city': 'jaipur'}\n"
     ]
    }
   ],
   "source": [
    "mydict ={\"name\": \"abhinav\" ,\"age\":\"21\",\"city\":\"jaipur\"}\n",
    "print(mydict)"
   ]
  },
  {
   "cell_type": "code",
   "execution_count": 13,
   "id": "8298918f",
   "metadata": {},
   "outputs": [
    {
     "name": "stdout",
     "output_type": "stream",
     "text": [
      "name\n",
      "age\n",
      "city\n"
     ]
    }
   ],
   "source": [
    "for item in mydict:\n",
    "    print(item)\n",
    "    "
   ]
  },
  {
   "cell_type": "code",
   "execution_count": 7,
   "id": "6c7d6172",
   "metadata": {},
   "outputs": [
    {
     "name": "stdout",
     "output_type": "stream",
     "text": [
      "('name', 'abhinav')\n",
      "('age', '21')\n",
      "('city', 'jaipur')\n"
     ]
    }
   ],
   "source": [
    "mydict ={\"name\": \"abhinav\" ,\"age\":\"21\",\"city\":\"jaipur\"}\n",
    "for item in mydict.items():\n",
    "    print(item) \n",
    "    "
   ]
  },
  {
   "cell_type": "code",
   "execution_count": 8,
   "id": "e038cf95",
   "metadata": {},
   "outputs": [
    {
     "name": "stdout",
     "output_type": "stream",
     "text": [
      "abhinav\n",
      "21\n",
      "jaipur\n"
     ]
    }
   ],
   "source": [
    "mydict ={\"name\": \"abhinav\" ,\"age\":\"21\",\"city\":\"jaipur\"}\n",
    "for item in mydict.values():\n",
    "    print(item) "
   ]
  },
  {
   "cell_type": "markdown",
   "id": "a39397d8",
   "metadata": {},
   "source": [
    "### while loop\n"
   ]
  },
  {
   "cell_type": "code",
   "execution_count": 2,
   "id": "7761e79b",
   "metadata": {},
   "outputs": [
    {
     "name": "stdout",
     "output_type": "stream",
     "text": [
      "a\n",
      "b\n",
      "h\n",
      "i\n",
      "n\n",
      "a\n",
      "v\n"
     ]
    }
   ],
   "source": [
    "x=\"abhinav\"\n",
    "i=0\n",
    "while i<len(x):\n",
    "    print(x[i])\n",
    "    i+=1"
   ]
  },
  {
   "cell_type": "code",
   "execution_count": 3,
   "id": "50ebb357",
   "metadata": {},
   "outputs": [
    {
     "name": "stdout",
     "output_type": "stream",
     "text": [
      "1\n",
      "2\n",
      "3\n",
      "4\n",
      "5\n"
     ]
    }
   ],
   "source": [
    "lst=[1,2,3,4,5]\n",
    "i =0\n",
    "while i<len(lst):\n",
    "    print(lst[i])\n",
    "    i+=1"
   ]
  },
  {
   "cell_type": "code",
   "execution_count": 8,
   "id": "21251723",
   "metadata": {},
   "outputs": [
    {
     "name": "stdout",
     "output_type": "stream",
     "text": [
      "0\n",
      "1\n",
      "2\n",
      "3\n",
      "4\n",
      "5\n",
      "6\n",
      "7\n",
      "8\n",
      "9\n"
     ]
    }
   ],
   "source": [
    "i=0\n",
    "while i<10:\n",
    "    print(i)\n",
    "    i+=1"
   ]
  },
  {
   "cell_type": "code",
   "execution_count": 9,
   "id": "04100095",
   "metadata": {},
   "outputs": [
    {
     "name": "stdout",
     "output_type": "stream",
     "text": [
      "1\n",
      "2\n",
      "3\n",
      "4\n",
      "5\n",
      "6\n",
      "7\n",
      "8\n",
      "9\n"
     ]
    }
   ],
   "source": [
    "i=1\n",
    "while i<10:\n",
    "    print(i)\n",
    "    i+=1"
   ]
  },
  {
   "cell_type": "code",
   "execution_count": 14,
   "id": "eab69914",
   "metadata": {},
   "outputs": [
    {
     "name": "stdout",
     "output_type": "stream",
     "text": [
      "name\n",
      "age\n",
      "city\n"
     ]
    }
   ],
   "source": [
    "mydict ={\"name\": \"abhinav\" ,\"age\":\"21\",\"city\":\"jaipur\"}\n",
    "item =list(mydict)\n",
    "i=0\n",
    "while i<len(item):\n",
    "    print(item[i])\n",
    "    i+=1"
   ]
  },
  {
   "cell_type": "code",
   "execution_count": 17,
   "id": "20746bcf",
   "metadata": {},
   "outputs": [
    {
     "name": "stdout",
     "output_type": "stream",
     "text": [
      "('name', 'abhinav')\n",
      "('age', '21')\n",
      "('city', 'jaipur')\n"
     ]
    }
   ],
   "source": [
    "mydict ={\"name\": \"abhinav\" ,\"age\":\"21\",\"city\":\"jaipur\"}\n",
    "items =list(mydict.items())\n",
    "i=0\n",
    "while i<len(items):\n",
    "    print(items[i])\n",
    "    i+=1"
   ]
  },
  {
   "cell_type": "code",
   "execution_count": 19,
   "id": "aceb4e6f",
   "metadata": {},
   "outputs": [
    {
     "name": "stdout",
     "output_type": "stream",
     "text": [
      "abhinav\n",
      "21\n",
      "jaipur\n"
     ]
    }
   ],
   "source": [
    "mydict ={\"name\": \"abhinav\" ,\"age\":\"21\",\"city\":\"jaipur\"}\n",
    "items =list(mydict.values())\n",
    "i=0\n",
    "while i<len(items):\n",
    "    print(items[i])\n",
    "    i+=1"
   ]
  }
 ],
 "metadata": {
  "kernelspec": {
   "display_name": "base",
   "language": "python",
   "name": "python3"
  },
  "language_info": {
   "codemirror_mode": {
    "name": "ipython",
    "version": 3
   },
   "file_extension": ".py",
   "mimetype": "text/x-python",
   "name": "python",
   "nbconvert_exporter": "python",
   "pygments_lexer": "ipython3",
   "version": "3.12.7"
  }
 },
 "nbformat": 4,
 "nbformat_minor": 5
}
