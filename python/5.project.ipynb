{
 "cells": [
  {
   "cell_type": "markdown",
   "id": "3623007c",
   "metadata": {},
   "source": [
    "## BMI calculator using class\n"
   ]
  },
  {
   "cell_type": "code",
   "execution_count": 2,
   "id": "711ebd8a",
   "metadata": {},
   "outputs": [
    {
     "name": "stdout",
     "output_type": "stream",
     "text": [
      "abhi\n",
      "your bmi is:19.59\n"
     ]
    },
    {
     "data": {
      "text/plain": [
       "19.591836734693878"
      ]
     },
     "execution_count": 2,
     "metadata": {},
     "output_type": "execute_result"
    }
   ],
   "source": [
    "class bmi:\n",
    "    def __init__(self, name, height, weight):\n",
    "        self.name= name\n",
    "        self.weight= weight \n",
    "        self.height= height \n",
    "    def bmi_calculate(self):\n",
    "        bmi= weight / (height**2)\n",
    "        print(f\"{self.name}\\nyour bmi is:{bmi:.2f}\")\n",
    "        return bmi\n",
    "\n",
    "    def bmi_category(self):\n",
    "        bmi = self.bmi_calculate()\n",
    "        if bmi <18.5:\n",
    "            print(\"you are underweight.\")\n",
    "        elif 18.5 <= bmi < 25:      \n",
    "            print(\"your weight is normal.\")\n",
    "        elif 25 <=bmi < 30:\n",
    "            print(\"you are overweight.\")\n",
    "        else :\n",
    "            print(\"you are obese.\")\n",
    "\n",
    "name=input(\"enter your name: \")\n",
    "weight=float(input(\"enter your weight : \"))\n",
    "height=float(input(\"enter your height : \"))\n",
    "\n",
    "cal = bmi(name,height,weight)\n",
    "cal.bmi_calculate()"
   ]
  },
  {
   "cell_type": "code",
   "execution_count": 3,
   "id": "3167da7c",
   "metadata": {},
   "outputs": [
    {
     "name": "stdout",
     "output_type": "stream",
     "text": [
      "abhi\n",
      "your bmi is:19.59\n",
      "your weight is normal.\n"
     ]
    }
   ],
   "source": [
    "cal.bmi_category()"
   ]
  },
  {
   "cell_type": "markdown",
   "id": "a9ab53a3",
   "metadata": {},
   "source": [
    "## ATM simulation project"
   ]
  },
  {
   "cell_type": "code",
   "execution_count": 4,
   "id": "29ba8245",
   "metadata": {},
   "outputs": [
    {
     "name": "stdout",
     "output_type": "stream",
     "text": [
      "access successfuly done\n",
      "access successfuly done\n",
      "\n",
      "1. Check Balance\n",
      "2. Deposit\n",
      "3. Withdraw\n",
      "4. Exit\n",
      "deposit successfully 2000.00\n",
      "\n",
      "1. Check Balance\n",
      "2. Deposit\n",
      "3. Withdraw\n",
      "4. Exit\n",
      "Thank you for using the ATM.\n"
     ]
    }
   ],
   "source": [
    "class ATM:\n",
    "    def __init__(self,balance):\n",
    "        self.balance= balance\n",
    "        self.pin= \"1325\"\n",
    "\n",
    "    def authentication (self):\n",
    "        entered_pin= input(\"enter 4 digit pin: \")\n",
    "        if entered_pin == self.pin:\n",
    "            print(\"access successfuly done\")\n",
    "            return True\n",
    "        else:\n",
    "            print(\"incorrect pin. access denied\")\n",
    "        exit\n",
    "          \n",
    "    def deposit(self):\n",
    "        amount=float(input(\"enter the deposit:\"))\n",
    "        if amount > 0:\n",
    "            self.balance+=amount\n",
    "            print(f\"deposit successfully {amount:.2f}\")\n",
    "\n",
    "\n",
    "        else:\n",
    "            print(\"invalid deposit amount\")\n",
    "\n",
    "    def withdraw(self):\n",
    "        amount =float(input(\"enter the withdraw:\"))\n",
    "        if amount<=self.balance:\n",
    "            self.balance-= amount\n",
    "            print(f\"withdraw successfully done {amount:.2f}\")\n",
    "        else:\n",
    "            print(\"insufficient balance \")\n",
    "        \n",
    "    def balance(self):\n",
    "        print(f\"current balance is {self.balance:.2f}\")\n",
    "\n",
    "    def option(self):\n",
    "        if not self.authentication():\n",
    "            return\n",
    "          \n",
    "        while True:\n",
    "            print(\"\\n1. Check Balance\")\n",
    "            print(\"2. Deposit\")\n",
    "            print(\"3. Withdraw\")\n",
    "            print(\"4. Exit\")\n",
    "            choice = input(\"Choose an option: \")\n",
    "            if choice == '1':\n",
    "                self.check_balance()\n",
    "            elif choice == '2':\n",
    "                self.deposit()\n",
    "            elif choice == '3':\n",
    "                self.withdraw()\n",
    "            elif choice == '4':\n",
    "                print(\"Thank you for using the ATM.\")\n",
    "                break\n",
    "            else:\n",
    "                print(\"Invalid option. Try again.\")\n",
    "\n",
    "\n",
    "atm=ATM(500000)\n",
    "\n",
    "if atm.authentication():\n",
    "    atm.option()\n",
    "    "
   ]
  }
 ],
 "metadata": {
  "kernelspec": {
   "display_name": "base",
   "language": "python",
   "name": "python3"
  },
  "language_info": {
   "codemirror_mode": {
    "name": "ipython",
    "version": 3
   },
   "file_extension": ".py",
   "mimetype": "text/x-python",
   "name": "python",
   "nbconvert_exporter": "python",
   "pygments_lexer": "ipython3",
   "version": "3.12.7"
  }
 },
 "nbformat": 4,
 "nbformat_minor": 5
}
