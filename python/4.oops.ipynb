{
 "cells": [
  {
   "cell_type": "markdown",
   "id": "a7d43572",
   "metadata": {},
   "source": [
    "## OOPS concept in python\n"
   ]
  },
  {
   "cell_type": "code",
   "execution_count": null,
   "id": "76653a2e",
   "metadata": {},
   "outputs": [],
   "source": [
    "#global variable\n",
    "#local variable\n",
    "\n",
    "#polymorphism\n",
    "#inheritence\n",
    "#encapsulation\n",
    "#abstraction"
   ]
  },
  {
   "cell_type": "code",
   "execution_count": 1,
   "id": "297d1302",
   "metadata": {},
   "outputs": [],
   "source": [
    "class class_name:\n",
    "    pass\n",
    "# class_name >>>>>>> class Name\n",
    "# pass >>>>> placeholder\n",
    "# class is a keywords"
   ]
  },
  {
   "cell_type": "code",
   "execution_count": 4,
   "id": "f81fa514",
   "metadata": {},
   "outputs": [
    {
     "name": "stdout",
     "output_type": "stream",
     "text": [
      "my name is abhinav and my age is 20\n"
     ]
    }
   ],
   "source": [
    "class student:\n",
    "    name =\"abhinav\" ## class variable\n",
    "    age =20 ## class variable\n",
    "    print(f\"my name is {name} and my age is {age}\")\n",
    "obj_student = student()"
   ]
  },
  {
   "cell_type": "code",
   "execution_count": 5,
   "id": "2ceae8a1",
   "metadata": {},
   "outputs": [
    {
     "data": {
      "text/plain": [
       "'abhinav'"
      ]
     },
     "execution_count": 5,
     "metadata": {},
     "output_type": "execute_result"
    }
   ],
   "source": [
    "obj_student.name"
   ]
  },
  {
   "cell_type": "code",
   "execution_count": 6,
   "id": "dbe7a42e",
   "metadata": {},
   "outputs": [
    {
     "data": {
      "text/plain": [
       "20"
      ]
     },
     "execution_count": 6,
     "metadata": {},
     "output_type": "execute_result"
    }
   ],
   "source": [
    "obj_student.age"
   ]
  },
  {
   "cell_type": "code",
   "execution_count": 1,
   "id": "d1598dc4",
   "metadata": {},
   "outputs": [],
   "source": [
    "class student:\n",
    "    name = \"abhinav\"\n",
    "    age = 20\n",
    "    def info(self):  ### info is method and self is parameter ya object keyword\n",
    "        print(\"this is my first method\")\n",
    "        print(\"how are you all\")\n",
    "dt_obj=student()"
   ]
  },
  {
   "cell_type": "code",
   "execution_count": 2,
   "id": "8fe8db0d",
   "metadata": {},
   "outputs": [
    {
     "name": "stdout",
     "output_type": "stream",
     "text": [
      "this is my first method\n",
      "how are you all\n"
     ]
    }
   ],
   "source": [
    "dt_obj.info()"
   ]
  },
  {
   "cell_type": "code",
   "execution_count": 3,
   "id": "391047be",
   "metadata": {},
   "outputs": [],
   "source": [
    "class student:\n",
    "    name = \"abhinav\"\n",
    "    age = 20\n",
    "    def info(self):  ### info is method and self is parameter ya object keyword\n",
    "        print(f\"my name is {self.name} and my age is {self.age}\")\n",
    "dt_obj = student()"
   ]
  },
  {
   "cell_type": "code",
   "execution_count": 4,
   "id": "b8e180b7",
   "metadata": {},
   "outputs": [
    {
     "name": "stdout",
     "output_type": "stream",
     "text": [
      "my name is abhinav and my age is 20\n"
     ]
    }
   ],
   "source": [
    "dt_obj.info()"
   ]
  },
  {
   "cell_type": "markdown",
   "id": "277c1197",
   "metadata": {},
   "source": [
    "## Inheritence\n",
    "types of inheritence\n",
    "* single inheritence\n",
    "* multiple inheritence\n",
    "* multilevel inheritence\n",
    "* hierarchical inheritence\n",
    "* hybrid inheritence"
   ]
  },
  {
   "cell_type": "code",
   "execution_count": 16,
   "id": "f599826c",
   "metadata": {},
   "outputs": [],
   "source": [
    "# class college :\n",
    "#     pass\n",
    "\n",
    "# class student:\n",
    "#     pass"
   ]
  },
  {
   "cell_type": "markdown",
   "id": "e19ec693",
   "metadata": {},
   "source": [
    "* single inheritence\n"
   ]
  },
  {
   "cell_type": "code",
   "execution_count": 17,
   "id": "e257c471",
   "metadata": {},
   "outputs": [],
   "source": [
    "class collage:\n",
    "    pass\n",
    "class student(collage):\n",
    "    pass"
   ]
  },
  {
   "cell_type": "code",
   "execution_count": 18,
   "id": "4323d3eb",
   "metadata": {},
   "outputs": [
    {
     "name": "stdout",
     "output_type": "stream",
     "text": [
      "JECRC\n",
      "sitapura\n",
      "abhinav\n",
      "005\n"
     ]
    }
   ],
   "source": [
    "class collage:\n",
    "    collage_name = \"JECRC\"\n",
    "    collage_address =\"sitapura\"\n",
    "class student(collage):\n",
    "    student_name =\"abhinav\"\n",
    "    student_id = \"005\"\n",
    "st_obj = student()\n",
    "print(st_obj.collage_name)\n",
    "print(st_obj.collage_address)\n",
    "print(st_obj.student_name)\n",
    "print(st_obj.student_id)"
   ]
  },
  {
   "cell_type": "code",
   "execution_count": null,
   "id": "1a8e20f7",
   "metadata": {},
   "outputs": [
    {
     "name": "stdout",
     "output_type": "stream",
     "text": [
      "vinod\n",
      "234\n",
      "rahul\n"
     ]
    }
   ],
   "source": [
    "### multiple inheritence \n",
    "class Father:\n",
    "    father_name=\"vinod\"\n",
    "    father_id= \"234\"\n",
    "class uncle:\n",
    "    uncle_name=\"rahul\"\n",
    "class child(Father, uncle):\n",
    "    pass\n",
    "\n",
    "obj_child=child()\n",
    "print(obj_child.father_name)\n",
    "print(obj_child.father_id)\n",
    "print(obj_child.uncle_name)\n"
   ]
  },
  {
   "cell_type": "code",
   "execution_count": 3,
   "id": "4c979a54",
   "metadata": {},
   "outputs": [
    {
     "name": "stdout",
     "output_type": "stream",
     "text": [
      "radhe\n",
      "78\n",
      "vinod\n",
      "45\n"
     ]
    }
   ],
   "source": [
    "# multilevel inheritence\n",
    "class grandfather:\n",
    "    grandfather_name=\"radhe\"\n",
    "    grandfather_age= 78\n",
    "class father(grandfather):\n",
    "    father_name=\"vinod\"\n",
    "    father_age=45\n",
    "class you(father):\n",
    "    pass\n",
    "\n",
    "obj_child=you()\n",
    "\n",
    "print(obj_child.grandfather_name)\n",
    "print(obj_child.grandfather_age)\n",
    "print(obj_child.father_name)\n",
    "print(obj_child.father_age)"
   ]
  },
  {
   "cell_type": "markdown",
   "id": "efc5b4aa",
   "metadata": {},
   "source": [
    "### polymorphism\n"
   ]
  },
  {
   "cell_type": "code",
   "execution_count": 26,
   "id": "1e3ee004",
   "metadata": {},
   "outputs": [
    {
     "name": "stdout",
     "output_type": "stream",
     "text": [
      "hello\n"
     ]
    }
   ],
   "source": [
    "print(\"hello\")"
   ]
  },
  {
   "cell_type": "code",
   "execution_count": 27,
   "id": "757502c0",
   "metadata": {},
   "outputs": [
    {
     "name": "stdout",
     "output_type": "stream",
     "text": [
      "[1, 2, 3, 4, 5]\n"
     ]
    }
   ],
   "source": [
    "lst=[1,2,3,4,5]\n",
    "print(lst)"
   ]
  },
  {
   "cell_type": "code",
   "execution_count": 28,
   "id": "de13659f",
   "metadata": {},
   "outputs": [
    {
     "data": {
      "text/plain": [
       "list"
      ]
     },
     "execution_count": 28,
     "metadata": {},
     "output_type": "execute_result"
    }
   ],
   "source": [
    "type(lst)"
   ]
  },
  {
   "cell_type": "code",
   "execution_count": 3,
   "id": "4437e76d",
   "metadata": {},
   "outputs": [
    {
     "name": "stdout",
     "output_type": "stream",
     "text": [
      "(1, 2, 3, 4, 5)\n"
     ]
    }
   ],
   "source": [
    "tpl=(1,2,3,4,5)\n",
    "print(tpl)"
   ]
  },
  {
   "cell_type": "code",
   "execution_count": 4,
   "id": "f51592fa",
   "metadata": {},
   "outputs": [
    {
     "data": {
      "text/plain": [
       "tuple"
      ]
     },
     "execution_count": 4,
     "metadata": {},
     "output_type": "execute_result"
    }
   ],
   "source": [
    "type(tpl)"
   ]
  },
  {
   "cell_type": "markdown",
   "id": "c1931ecd",
   "metadata": {},
   "source": [
    "### encapsulation\n"
   ]
  },
  {
   "cell_type": "code",
   "execution_count": null,
   "id": "f89408a1",
   "metadata": {},
   "outputs": [],
   "source": [
    "# private \n",
    "# public \n",
    "# protected\n",
    "\n",
    "class student:\n",
    "    __name= \"abhinav\"## private variable\n",
    "    age =20 ## public\n",
    "    _id =\"1234\" ## protected variable \n",
    "st_obj = student()\n"
   ]
  },
  {
   "cell_type": "code",
   "execution_count": 6,
   "id": "1cdbc5f1",
   "metadata": {},
   "outputs": [
    {
     "data": {
      "text/plain": [
       "20"
      ]
     },
     "execution_count": 6,
     "metadata": {},
     "output_type": "execute_result"
    }
   ],
   "source": [
    "st_obj.age"
   ]
  },
  {
   "cell_type": "code",
   "execution_count": null,
   "id": "ecd2c76f",
   "metadata": {},
   "outputs": [
    {
     "data": {
      "text/plain": [
       "'abhinav'"
      ]
     },
     "execution_count": 8,
     "metadata": {},
     "output_type": "execute_result"
    }
   ],
   "source": [
    "st_obj._student__name ## accessing private variable using class name"
   ]
  },
  {
   "cell_type": "code",
   "execution_count": 10,
   "id": "6ace62cf",
   "metadata": {},
   "outputs": [
    {
     "data": {
      "text/plain": [
       "'1234'"
      ]
     },
     "execution_count": 10,
     "metadata": {},
     "output_type": "execute_result"
    }
   ],
   "source": [
    "st_obj._id"
   ]
  },
  {
   "cell_type": "markdown",
   "id": "0e6e7e80",
   "metadata": {},
   "source": [
    "## task \n",
    "\n"
   ]
  },
  {
   "cell_type": "code",
   "execution_count": 17,
   "id": "2fc42e36",
   "metadata": {},
   "outputs": [],
   "source": [
    "class bank:\n",
    "    __account_no =\"387468247673\" ## private \n",
    "    holder_name =\"abhinav\"\n",
    "    address = \"jaipur\"\n",
    "    phone_number = \"6378551175\"\n",
    "    ## method\n",
    "    def total_balance (self):\n",
    "        self.balance =int(input(\"enter total balance: \"))\n",
    "        print(f\"your account number is: {self.__account_no}\")\n",
    "        print(f\"your total balance is :{self.balance}\")\n",
    "id=bank()\n"
   ]
  },
  {
   "cell_type": "code",
   "execution_count": 18,
   "id": "19c1ac3e",
   "metadata": {},
   "outputs": [
    {
     "name": "stdout",
     "output_type": "stream",
     "text": [
      "your name is  abhinav\n",
      "your address is jaipur\n",
      "your phone number is 6378551175\n",
      "your account number is: 387468247673\n",
      "your total balance is :1654556\n"
     ]
    }
   ],
   "source": [
    "print(\"your name is \",id.holder_name)\n",
    "print(\"your address is\",id.address)\n",
    "print(\"your phone number is\",id.phone_number)\n",
    "id.total_balance()\n"
   ]
  },
  {
   "cell_type": "markdown",
   "id": "ac5b576a",
   "metadata": {},
   "source": [
    "## task 1. Study about super function about its use also\n",
    "## task 2.Project-BMI calculator by using class\n"
   ]
  },
  {
   "cell_type": "code",
   "execution_count": 19,
   "id": "48992223",
   "metadata": {},
   "outputs": [],
   "source": [
    "## constructor\n",
    "## init method \n",
    "# __init__ method\n",
    "\n",
    "\n",
    "class student:\n",
    "    def __init__(self):\n",
    "        pass"
   ]
  },
  {
   "cell_type": "code",
   "execution_count": 20,
   "id": "b7f46a71",
   "metadata": {},
   "outputs": [
    {
     "data": {
      "text/plain": [
       "<__main__.student at 0x20b81023380>"
      ]
     },
     "execution_count": 20,
     "metadata": {},
     "output_type": "execute_result"
    }
   ],
   "source": [
    "### calling\n",
    "class student:\n",
    "    def __init__(self):\n",
    "        pass\n",
    "student()"
   ]
  },
  {
   "cell_type": "code",
   "execution_count": 3,
   "id": "eab03949",
   "metadata": {},
   "outputs": [
    {
     "data": {
      "text/plain": [
       "'abhinav'"
      ]
     },
     "execution_count": 3,
     "metadata": {},
     "output_type": "execute_result"
    }
   ],
   "source": [
    "class student:\n",
    "    def __init__(self,name, age):\n",
    "        self.name= name\n",
    "        self.age =age ## instance variable\n",
    "\n",
    "obj_st =student (name=\"abhinav\" ,age=20)\n",
    "\n",
    "obj_st.name"
   ]
  },
  {
   "cell_type": "code",
   "execution_count": 4,
   "id": "9d49cc84",
   "metadata": {},
   "outputs": [
    {
     "data": {
      "text/plain": [
       "20"
      ]
     },
     "execution_count": 4,
     "metadata": {},
     "output_type": "execute_result"
    }
   ],
   "source": [
    "obj_st.age"
   ]
  },
  {
   "cell_type": "code",
   "execution_count": 27,
   "id": "a77aa032",
   "metadata": {},
   "outputs": [
    {
     "name": "stdout",
     "output_type": "stream",
     "text": [
      "abhinav\n",
      "20\n"
     ]
    }
   ],
   "source": [
    "print(obj_st.name)\n",
    "print(obj_st.age)"
   ]
  },
  {
   "cell_type": "code",
   "execution_count": 10,
   "id": "ba5c1a32",
   "metadata": {},
   "outputs": [],
   "source": [
    "class student:\n",
    "    def __init__(self, name, age, address):\n",
    "        self.name =name\n",
    "        self.age =age\n",
    "        self.address= address\n",
    "\n",
    "    def display(self):\n",
    "        print(f\"my name is {self.name} and my age is {self.age} and my address is {self.address}\")\n",
    "\n",
    "obj_st =student(name=\"abhinav\", age =20, address=\"jaipur\")\n",
    "        "
   ]
  },
  {
   "cell_type": "code",
   "execution_count": 11,
   "id": "802ddc6c",
   "metadata": {},
   "outputs": [
    {
     "name": "stdout",
     "output_type": "stream",
     "text": [
      "my name is abhinav and my age is 20 and my address is jaipur\n"
     ]
    }
   ],
   "source": [
    "obj_st.display()"
   ]
  },
  {
   "cell_type": "code",
   "execution_count": null,
   "id": "f47014f2",
   "metadata": {},
   "outputs": [],
   "source": [
    "# class bank:\n",
    "# constructor\n",
    "# init method\n",
    "# __init__\n",
    "# account number private\n",
    "# name\n",
    "# address\n",
    "# phone number\n",
    "# method\n",
    "# deposit\n",
    "# withdraw\n",
    "# total balance"
   ]
  },
  {
   "cell_type": "code",
   "execution_count": 12,
   "id": "670b2e2e",
   "metadata": {},
   "outputs": [],
   "source": [
    "class bank:\n",
    "    def __init__(self , name, address ,phone_number ,account_number):\n",
    "        self.name=name\n",
    "        self.address=address\n",
    "        self.__account_number = account_number\n",
    "        self.phone_number = phone_number\n",
    "    def deposit(self):\n",
    "        self.dep=int(input(\"enter the deposit:\"))\n",
    "        print(f\"amount deposit: {self.dep}\")\n",
    "    def withdraw(self):\n",
    "        self.withd =int(input(\"enter the withdraw:\"))\n",
    "        print(f\"amount withdraw: {self.withd}\")\n",
    "\n",
    "    def balance(self):\n",
    "        print(f\"current balance is: {self.dep-self.withd}\")\n",
    "\n",
    "obj_bn= bank(name=\"abhinav\",address=\"jaipur\",phone_number=6378551175 , account_number=\"8743687634\")\n"
   ]
  },
  {
   "cell_type": "code",
   "execution_count": 13,
   "id": "930dd19a",
   "metadata": {},
   "outputs": [
    {
     "name": "stdout",
     "output_type": "stream",
     "text": [
      "amount deposit: 50000\n",
      "amount withdraw: 4000\n",
      "current balance is: 46000\n"
     ]
    }
   ],
   "source": [
    "obj_bn.deposit()\n",
    "obj_bn.withdraw()\n",
    "obj_bn.balance()"
   ]
  },
  {
   "cell_type": "code",
   "execution_count": null,
   "id": "322ebb47",
   "metadata": {},
   "outputs": [],
   "source": []
  }
 ],
 "metadata": {
  "kernelspec": {
   "display_name": "base",
   "language": "python",
   "name": "python3"
  },
  "language_info": {
   "codemirror_mode": {
    "name": "ipython",
    "version": 3
   },
   "file_extension": ".py",
   "mimetype": "text/x-python",
   "name": "python",
   "nbconvert_exporter": "python",
   "pygments_lexer": "ipython3",
   "version": "3.12.7"
  }
 },
 "nbformat": 4,
 "nbformat_minor": 5
}
