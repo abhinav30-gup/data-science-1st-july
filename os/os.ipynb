{
 "cells": [
  {
   "cell_type": "markdown",
   "id": "c7283756",
   "metadata": {},
   "source": [
    "# os\n"
   ]
  },
  {
   "cell_type": "code",
   "execution_count": null,
   "id": "2207b370",
   "metadata": {},
   "outputs": [],
   "source": [
    "import os  # import keywords is used to include module in python"
   ]
  },
  {
   "cell_type": "code",
   "execution_count": 3,
   "id": "3cef9724",
   "metadata": {},
   "outputs": [
    {
     "name": "stdout",
     "output_type": "stream",
     "text": [
      "c:\\Users\\abhin\\OneDrive\\Desktop\\ds 1st july\\os\n"
     ]
    }
   ],
   "source": [
    "file=os.getcwd()\n",
    "print(file)           # get current working directory"
   ]
  },
  {
   "cell_type": "code",
   "execution_count": 4,
   "id": "70de4367",
   "metadata": {},
   "outputs": [
    {
     "name": "stdout",
     "output_type": "stream",
     "text": [
      "total file in the directories:-  ['os.ipynb']\n"
     ]
    }
   ],
   "source": [
    "file=os.listdir(r\"c:\\Users\\abhin\\OneDrive\\Desktop\\ds 1st july\\os\")\n",
    "print(\"total file in the directories:- \",file)"
   ]
  },
  {
   "cell_type": "code",
   "execution_count": 5,
   "id": "f4944339",
   "metadata": {},
   "outputs": [
    {
     "name": "stdout",
     "output_type": "stream",
     "text": [
      "total file in this directory:-  ['.basic.py', '1.conditional.ipynb', '2.looping.ipynb', '3.function.ipynb', '4.oops.ipynb', '5.project.ipynb', '6.exceptional_handling.ipynb', '7(a)demo.txt', '7(b)text.txt', '7(c)upflairs.txt', '7.file_handling.ipynb']\n"
     ]
    }
   ],
   "source": [
    "file=os.listdir(r\"c:\\Users\\abhin\\OneDrive\\Desktop\\ds 1st july\\python\")\n",
    "print(\"total file in this directory:- \",file)"
   ]
  },
  {
   "cell_type": "code",
   "execution_count": 6,
   "id": "e21500a0",
   "metadata": {},
   "outputs": [
    {
     "data": {
      "text/plain": [
       "['23EJCIT005.ABHINAV 2.pdf',\n",
       " '23EJCIT005.ABHINAV.docx',\n",
       " '23EJCIT005.ABHINAV.pdf',\n",
       " '23EJCIT005.docx',\n",
       " 'A.docx',\n",
       " 'abhinav kumar gupta 23EJCIT005.pptx',\n",
       " 'abhinav kumar gupta-Abhinav-PC.docx',\n",
       " 'Adobe',\n",
       " 'Bharti Steel Board Meeting Minutes[4(a)].docx',\n",
       " 'Business Process Reengineering..docx',\n",
       " 'Business Process Reengineering.docx',\n",
       " 'Canteen_Proposal_Abhinav_Kumar[2(b)].docx',\n",
       " 'Creativity and innovation are fundamental concepts in entrepreneurship that play a crucial role in determining the success and growth of entrepreneurial ventures.docx',\n",
       " 'Custom Office Templates',\n",
       " 'desktop.ini',\n",
       " 'Desktop_Computer_Comparison_Report[3(c)].docx',\n",
       " 'Downloads',\n",
       " 'Enterprise Resource Planning-Abhinav-PC.docx',\n",
       " 'Enterprise Resource reengineering.docx',\n",
       " 'Entrepreneurship plays a crucial role in the modern business world by driving innovation.docx',\n",
       " 'ERP Functional Modules-Abhinav-PC.docx',\n",
       " 'Explanation of Technical Reports[5(c)].docx',\n",
       " 'Job_Application_Abhinav_Kumar[2(a)].docx',\n",
       " 'Letter to Editor Standard of living[3(b)].docx',\n",
       " 'linear.java',\n",
       " 'Official_Email_Work_Atmosphere_Meeting[3(a)].docx',\n",
       " 'Reading and Speaking Skills Essay[4(b)].docx',\n",
       " 'Road Accidents Report Outline Pilani[5(a)].docx',\n",
       " 'Role of Board of Directors.docx',\n",
       " 'Self.docx',\n",
       " 'Technical Proposal Communication Centre Pilani[5(b)].docx',\n",
       " 'The process of company formation and incorporation under the Companies Act of 2013 involves several stages-Abhinav-PC.docx',\n",
       " 'Types of Companies under 2013 Act-Abhinav-PC.docx',\n",
       " 'XuanZhi']"
      ]
     },
     "execution_count": 6,
     "metadata": {},
     "output_type": "execute_result"
    }
   ],
   "source": [
    "path=r\"C:\\Users\\abhin\\OneDrive\\Pictures\\Documents\"\n",
    "os.listdir(path)"
   ]
  },
  {
   "cell_type": "code",
   "execution_count": 16,
   "id": "acf62dfc",
   "metadata": {},
   "outputs": [
    {
     "name": "stdout",
     "output_type": "stream",
     "text": [
      "folder created successfully\n"
     ]
    }
   ],
   "source": [
    "os.mkdir(\"test\") ## it will create a folder named test\n",
    "print(\"folder created successfully\")"
   ]
  },
  {
   "cell_type": "code",
   "execution_count": 17,
   "id": "76daac7c",
   "metadata": {},
   "outputs": [
    {
     "data": {
      "text/plain": [
       "['os.ipynb', 'test']"
      ]
     },
     "execution_count": 17,
     "metadata": {},
     "output_type": "execute_result"
    }
   ],
   "source": [
    "os.listdir(os.getcwd())"
   ]
  },
  {
   "cell_type": "code",
   "execution_count": 18,
   "id": "323d2b86",
   "metadata": {},
   "outputs": [
    {
     "name": "stdout",
     "output_type": "stream",
     "text": [
      "test directories renamed to data science\n"
     ]
    }
   ],
   "source": [
    "os.rename(\"test\",\"data science\")\n",
    "print(\"test directories renamed to data science\")"
   ]
  },
  {
   "cell_type": "code",
   "execution_count": 29,
   "id": "690aae63",
   "metadata": {},
   "outputs": [
    {
     "name": "stdout",
     "output_type": "stream",
     "text": [
      "data science directories remove\n"
     ]
    }
   ],
   "source": [
    "os.rmdir(\"data science\")\n",
    "print(\"data science directories remove\")"
   ]
  },
  {
   "cell_type": "code",
   "execution_count": 20,
   "id": "2b45be73",
   "metadata": {},
   "outputs": [
    {
     "data": {
      "text/plain": [
       "'c:\\\\Users\\\\abhin\\\\OneDrive\\\\Desktop\\\\ds 1st july\\\\os'"
      ]
     },
     "execution_count": 20,
     "metadata": {},
     "output_type": "execute_result"
    }
   ],
   "source": [
    "os.getcwd()"
   ]
  },
  {
   "cell_type": "code",
   "execution_count": 21,
   "id": "a4e2890b",
   "metadata": {},
   "outputs": [
    {
     "name": "stdout",
     "output_type": "stream",
     "text": [
      "path exit None\n"
     ]
    }
   ],
   "source": [
    "path=r\"c:\\Users\\abhin\\OneDrive\\Desktop\\ds 1st july\\os\"\n",
    "path=os.environ.get(path)\n",
    "print(\"path exit\",path)"
   ]
  },
  {
   "cell_type": "code",
   "execution_count": 22,
   "id": "4cf61e39",
   "metadata": {},
   "outputs": [
    {
     "data": {
      "text/plain": [
       "0"
      ]
     },
     "execution_count": 22,
     "metadata": {},
     "output_type": "execute_result"
    }
   ],
   "source": [
    "os.system(\"path\")"
   ]
  },
  {
   "cell_type": "code",
   "execution_count": 23,
   "id": "54b6b4a4",
   "metadata": {},
   "outputs": [
    {
     "data": {
      "text/plain": [
       "False"
      ]
     },
     "execution_count": 23,
     "metadata": {},
     "output_type": "execute_result"
    }
   ],
   "source": [
    "path=r\"c:\\Users\\abhin\\OneDrive\\Desktop\\ds 1st july\\os\"\n",
    "os.path.isfile(path)"
   ]
  },
  {
   "cell_type": "code",
   "execution_count": 25,
   "id": "560ece25",
   "metadata": {},
   "outputs": [
    {
     "data": {
      "text/plain": [
       "True"
      ]
     },
     "execution_count": 25,
     "metadata": {},
     "output_type": "execute_result"
    }
   ],
   "source": [
    "path=r\"c:\\Users\\abhin\\OneDrive\\Desktop\\ds 1st july\\os\"\n",
    "os.path.isdir(path)"
   ]
  },
  {
   "cell_type": "code",
   "execution_count": 27,
   "id": "0fb00aa0",
   "metadata": {},
   "outputs": [
    {
     "name": "stdout",
     "output_type": "stream",
     "text": [
      "C:\\Users\\abhin\\OneDrive\\Desktop\n"
     ]
    },
    {
     "data": {
      "text/plain": [
       "['c++', 'ds 1st july']"
      ]
     },
     "execution_count": 27,
     "metadata": {},
     "output_type": "execute_result"
    }
   ],
   "source": [
    "path1=r\"c:\\Users\\abhin\\OneDrive\\Desktop\\ds 1st july\\os\"\n",
    "path2=r\"C:\\Users\\abhin\\OneDrive\\Desktop\"\n",
    "complete_path=os.path.join(path1,path2)\n",
    "print(complete_path)\n",
    "os.listdir(complete_path)"
   ]
  },
  {
   "cell_type": "code",
   "execution_count": 30,
   "id": "49aa1ee0",
   "metadata": {},
   "outputs": [
    {
     "name": "stdout",
     "output_type": "stream",
     "text": [
      "size of file (in bytes):-  7242\n"
     ]
    }
   ],
   "source": [
    "path =r\"C:\\Users\\abhin\\OneDrive\\Desktop\\ds 1st july\\python\\1.conditional.ipynb\"\n",
    "size= os.path.getsize(path)\n",
    "print(\"size of file (in bytes):- \",size)"
   ]
  },
  {
   "cell_type": "code",
   "execution_count": 33,
   "id": "3a85f059",
   "metadata": {},
   "outputs": [
    {
     "name": "stdout",
     "output_type": "stream",
     "text": [
      "before dir  c:\\Users\\abhin\\OneDrive\\Desktop\\ds 1st july\\os\n",
      "after dir c:\\Users\\abhin\\OneDrive\\Desktop\\ds 1st july\\python\n"
     ]
    }
   ],
   "source": [
    "print(\"before dir \",os.getcwd())\n",
    "os.chdir(r\"c:\\Users\\abhin\\OneDrive\\Desktop\\ds 1st july\\python\")\n",
    "print(\"after dir\",os.getcwd())"
   ]
  },
  {
   "cell_type": "code",
   "execution_count": null,
   "id": "a83f12d7",
   "metadata": {},
   "outputs": [],
   "source": []
  }
 ],
 "metadata": {
  "kernelspec": {
   "display_name": "base",
   "language": "python",
   "name": "python3"
  },
  "language_info": {
   "codemirror_mode": {
    "name": "ipython",
    "version": 3
   },
   "file_extension": ".py",
   "mimetype": "text/x-python",
   "name": "python",
   "nbconvert_exporter": "python",
   "pygments_lexer": "ipython3",
   "version": "3.12.7"
  }
 },
 "nbformat": 4,
 "nbformat_minor": 5
}
